{
  "nbformat": 4,
  "nbformat_minor": 0,
  "metadata": {
    "colab": {
      "name": "Lithology Prediction.ipynb",
      "provenance": [],
      "collapsed_sections": [],
      "toc_visible": true,
      "mount_file_id": "128-mHwIX73RIpwwUnbaeTuI-j0u26Zcz",
      "authorship_tag": "ABX9TyMSHtKEsnew5QdGX8pqfkda",
      "include_colab_link": true
    },
    "kernelspec": {
      "name": "python3",
      "display_name": "Python 3"
    },
    "language_info": {
      "name": "python"
    }
  },
  "cells": [
    {
      "cell_type": "markdown",
      "metadata": {
        "id": "view-in-github",
        "colab_type": "text"
      },
      "source": [
        "<a href=\"https://colab.research.google.com/github/Omar-Ouardighi/Lithology-Prediction-Force-2020-Competition/blob/main/Lithology_Prediction.ipynb\" target=\"_parent\"><img src=\"https://colab.research.google.com/assets/colab-badge.svg\" alt=\"Open In Colab\"/></a>"
      ]
    },
    {
      "cell_type": "code",
      "metadata": {
        "id": "snHokDl0lLE4"
      },
      "source": [
        "import pandas as pd\n",
        "import numpy as np\n",
        "import seaborn as sns\n",
        "import matplotlib.pyplot as plt\n",
        "from sklearn.model_selection import StratifiedKFold\n",
        "from xgboost import XGBClassifier\n",
        "from sklearn.metrics import accuracy_score, f1_score"
      ],
      "execution_count": 25,
      "outputs": []
    },
    {
      "cell_type": "code",
      "metadata": {
        "colab": {
          "base_uri": "https://localhost:8080/",
          "height": 332
        },
        "id": "fKtQr06bLXok",
        "outputId": "7a0211aa-992f-4e67-ab0a-60fecde4b9c1"
      },
      "source": [
        "train_df = pd.read_csv('drive/MyDrive/Train.csv',sep=';')\n",
        "test_df = pd.read_csv('drive/MyDrive/test.csv',sep=';')\n",
        "print(train_df.shape, test_df.shape)\n",
        "train_df.head()"
      ],
      "execution_count": 2,
      "outputs": [
        {
          "output_type": "stream",
          "text": [
            "(1170511, 29) (136786, 27)\n"
          ],
          "name": "stdout"
        },
        {
          "output_type": "execute_result",
          "data": {
            "text/html": [
              "<div>\n",
              "<style scoped>\n",
              "    .dataframe tbody tr th:only-of-type {\n",
              "        vertical-align: middle;\n",
              "    }\n",
              "\n",
              "    .dataframe tbody tr th {\n",
              "        vertical-align: top;\n",
              "    }\n",
              "\n",
              "    .dataframe thead th {\n",
              "        text-align: right;\n",
              "    }\n",
              "</style>\n",
              "<table border=\"1\" class=\"dataframe\">\n",
              "  <thead>\n",
              "    <tr style=\"text-align: right;\">\n",
              "      <th></th>\n",
              "      <th>WELL</th>\n",
              "      <th>DEPTH_MD</th>\n",
              "      <th>X_LOC</th>\n",
              "      <th>Y_LOC</th>\n",
              "      <th>Z_LOC</th>\n",
              "      <th>GROUP</th>\n",
              "      <th>FORMATION</th>\n",
              "      <th>CALI</th>\n",
              "      <th>RSHA</th>\n",
              "      <th>RMED</th>\n",
              "      <th>RDEP</th>\n",
              "      <th>RHOB</th>\n",
              "      <th>GR</th>\n",
              "      <th>SGR</th>\n",
              "      <th>NPHI</th>\n",
              "      <th>PEF</th>\n",
              "      <th>DTC</th>\n",
              "      <th>SP</th>\n",
              "      <th>BS</th>\n",
              "      <th>ROP</th>\n",
              "      <th>DTS</th>\n",
              "      <th>DCAL</th>\n",
              "      <th>DRHO</th>\n",
              "      <th>MUDWEIGHT</th>\n",
              "      <th>RMIC</th>\n",
              "      <th>ROPA</th>\n",
              "      <th>RXO</th>\n",
              "      <th>FORCE_2020_LITHOFACIES_LITHOLOGY</th>\n",
              "      <th>FORCE_2020_LITHOFACIES_CONFIDENCE</th>\n",
              "    </tr>\n",
              "  </thead>\n",
              "  <tbody>\n",
              "    <tr>\n",
              "      <th>0</th>\n",
              "      <td>15/9-13</td>\n",
              "      <td>494.528</td>\n",
              "      <td>437641.96875</td>\n",
              "      <td>6470972.5</td>\n",
              "      <td>-469.501831</td>\n",
              "      <td>NORDLAND GP.</td>\n",
              "      <td>NaN</td>\n",
              "      <td>19.480835</td>\n",
              "      <td>NaN</td>\n",
              "      <td>1.611410</td>\n",
              "      <td>1.798681</td>\n",
              "      <td>1.884186</td>\n",
              "      <td>80.200851</td>\n",
              "      <td>NaN</td>\n",
              "      <td>NaN</td>\n",
              "      <td>20.915468</td>\n",
              "      <td>161.131180</td>\n",
              "      <td>24.612379</td>\n",
              "      <td>NaN</td>\n",
              "      <td>34.636410</td>\n",
              "      <td>NaN</td>\n",
              "      <td>NaN</td>\n",
              "      <td>-0.574928</td>\n",
              "      <td>NaN</td>\n",
              "      <td>NaN</td>\n",
              "      <td>NaN</td>\n",
              "      <td>NaN</td>\n",
              "      <td>65000</td>\n",
              "      <td>1.0</td>\n",
              "    </tr>\n",
              "    <tr>\n",
              "      <th>1</th>\n",
              "      <td>15/9-13</td>\n",
              "      <td>494.680</td>\n",
              "      <td>437641.96875</td>\n",
              "      <td>6470972.5</td>\n",
              "      <td>-469.653809</td>\n",
              "      <td>NORDLAND GP.</td>\n",
              "      <td>NaN</td>\n",
              "      <td>19.468800</td>\n",
              "      <td>NaN</td>\n",
              "      <td>1.618070</td>\n",
              "      <td>1.795641</td>\n",
              "      <td>1.889794</td>\n",
              "      <td>79.262886</td>\n",
              "      <td>NaN</td>\n",
              "      <td>NaN</td>\n",
              "      <td>19.383013</td>\n",
              "      <td>160.603470</td>\n",
              "      <td>23.895531</td>\n",
              "      <td>NaN</td>\n",
              "      <td>34.636410</td>\n",
              "      <td>NaN</td>\n",
              "      <td>NaN</td>\n",
              "      <td>-0.570188</td>\n",
              "      <td>NaN</td>\n",
              "      <td>NaN</td>\n",
              "      <td>NaN</td>\n",
              "      <td>NaN</td>\n",
              "      <td>65000</td>\n",
              "      <td>1.0</td>\n",
              "    </tr>\n",
              "    <tr>\n",
              "      <th>2</th>\n",
              "      <td>15/9-13</td>\n",
              "      <td>494.832</td>\n",
              "      <td>437641.96875</td>\n",
              "      <td>6470972.5</td>\n",
              "      <td>-469.805786</td>\n",
              "      <td>NORDLAND GP.</td>\n",
              "      <td>NaN</td>\n",
              "      <td>19.468800</td>\n",
              "      <td>NaN</td>\n",
              "      <td>1.626459</td>\n",
              "      <td>1.800733</td>\n",
              "      <td>1.896523</td>\n",
              "      <td>74.821999</td>\n",
              "      <td>NaN</td>\n",
              "      <td>NaN</td>\n",
              "      <td>22.591518</td>\n",
              "      <td>160.173615</td>\n",
              "      <td>23.916357</td>\n",
              "      <td>NaN</td>\n",
              "      <td>34.779556</td>\n",
              "      <td>NaN</td>\n",
              "      <td>NaN</td>\n",
              "      <td>-0.574245</td>\n",
              "      <td>NaN</td>\n",
              "      <td>NaN</td>\n",
              "      <td>NaN</td>\n",
              "      <td>NaN</td>\n",
              "      <td>65000</td>\n",
              "      <td>1.0</td>\n",
              "    </tr>\n",
              "    <tr>\n",
              "      <th>3</th>\n",
              "      <td>15/9-13</td>\n",
              "      <td>494.984</td>\n",
              "      <td>437641.96875</td>\n",
              "      <td>6470972.5</td>\n",
              "      <td>-469.957794</td>\n",
              "      <td>NORDLAND GP.</td>\n",
              "      <td>NaN</td>\n",
              "      <td>19.459282</td>\n",
              "      <td>NaN</td>\n",
              "      <td>1.621594</td>\n",
              "      <td>1.801517</td>\n",
              "      <td>1.891913</td>\n",
              "      <td>72.878922</td>\n",
              "      <td>NaN</td>\n",
              "      <td>NaN</td>\n",
              "      <td>32.191910</td>\n",
              "      <td>160.149429</td>\n",
              "      <td>23.793688</td>\n",
              "      <td>NaN</td>\n",
              "      <td>39.965164</td>\n",
              "      <td>NaN</td>\n",
              "      <td>NaN</td>\n",
              "      <td>-0.586315</td>\n",
              "      <td>NaN</td>\n",
              "      <td>NaN</td>\n",
              "      <td>NaN</td>\n",
              "      <td>NaN</td>\n",
              "      <td>65000</td>\n",
              "      <td>1.0</td>\n",
              "    </tr>\n",
              "    <tr>\n",
              "      <th>4</th>\n",
              "      <td>15/9-13</td>\n",
              "      <td>495.136</td>\n",
              "      <td>437641.96875</td>\n",
              "      <td>6470972.5</td>\n",
              "      <td>-470.109772</td>\n",
              "      <td>NORDLAND GP.</td>\n",
              "      <td>NaN</td>\n",
              "      <td>19.453100</td>\n",
              "      <td>NaN</td>\n",
              "      <td>1.602679</td>\n",
              "      <td>1.795299</td>\n",
              "      <td>1.880034</td>\n",
              "      <td>71.729141</td>\n",
              "      <td>NaN</td>\n",
              "      <td>NaN</td>\n",
              "      <td>38.495632</td>\n",
              "      <td>160.128342</td>\n",
              "      <td>24.104078</td>\n",
              "      <td>NaN</td>\n",
              "      <td>57.483765</td>\n",
              "      <td>NaN</td>\n",
              "      <td>NaN</td>\n",
              "      <td>-0.597914</td>\n",
              "      <td>NaN</td>\n",
              "      <td>NaN</td>\n",
              "      <td>NaN</td>\n",
              "      <td>NaN</td>\n",
              "      <td>65000</td>\n",
              "      <td>1.0</td>\n",
              "    </tr>\n",
              "  </tbody>\n",
              "</table>\n",
              "</div>"
            ],
            "text/plain": [
              "      WELL  ...  FORCE_2020_LITHOFACIES_CONFIDENCE\n",
              "0  15/9-13  ...                                1.0\n",
              "1  15/9-13  ...                                1.0\n",
              "2  15/9-13  ...                                1.0\n",
              "3  15/9-13  ...                                1.0\n",
              "4  15/9-13  ...                                1.0\n",
              "\n",
              "[5 rows x 29 columns]"
            ]
          },
          "metadata": {},
          "execution_count": 2
        }
      ]
    },
    {
      "cell_type": "markdown",
      "metadata": {
        "id": "6Ni9tiMECXh9"
      },
      "source": [
        "#  Exploration Data Analysis"
      ]
    },
    {
      "cell_type": "code",
      "metadata": {
        "colab": {
          "base_uri": "https://localhost:8080/"
        },
        "id": "EuDOkSfXXBfl",
        "outputId": "9c1e8aff-9b99-418b-bc8c-bd0d0cf9b36c"
      },
      "source": [
        "miss_features = []\n",
        "for i in train_df.columns:\n",
        "  if i not in test_df.columns:\n",
        "    miss_features.append(i)\n",
        "print(f'The columns that are not in test data: \\n {miss_features}')"
      ],
      "execution_count": 3,
      "outputs": [
        {
          "output_type": "stream",
          "text": [
            "The columns that are not in test data: \n",
            " ['FORCE_2020_LITHOFACIES_LITHOLOGY', 'FORCE_2020_LITHOFACIES_CONFIDENCE']\n"
          ],
          "name": "stdout"
        }
      ]
    },
    {
      "cell_type": "code",
      "metadata": {
        "id": "5EDM_3M9Y-ZL",
        "colab": {
          "base_uri": "https://localhost:8080/"
        },
        "outputId": "6be96c00-474d-46ad-8c20-9a40f6e963da"
      },
      "source": [
        "train_df.info()"
      ],
      "execution_count": 4,
      "outputs": [
        {
          "output_type": "stream",
          "text": [
            "<class 'pandas.core.frame.DataFrame'>\n",
            "RangeIndex: 1170511 entries, 0 to 1170510\n",
            "Data columns (total 29 columns):\n",
            " #   Column                             Non-Null Count    Dtype  \n",
            "---  ------                             --------------    -----  \n",
            " 0   WELL                               1170511 non-null  object \n",
            " 1   DEPTH_MD                           1170511 non-null  float64\n",
            " 2   X_LOC                              1159736 non-null  float64\n",
            " 3   Y_LOC                              1159736 non-null  float64\n",
            " 4   Z_LOC                              1159736 non-null  float64\n",
            " 5   GROUP                              1169233 non-null  object \n",
            " 6   FORMATION                          1033517 non-null  object \n",
            " 7   CALI                               1082634 non-null  float64\n",
            " 8   RSHA                               630650 non-null   float64\n",
            " 9   RMED                               1131518 non-null  float64\n",
            " 10  RDEP                               1159496 non-null  float64\n",
            " 11  RHOB                               1009242 non-null  float64\n",
            " 12  GR                                 1170511 non-null  float64\n",
            " 13  SGR                                69353 non-null    float64\n",
            " 14  NPHI                               765409 non-null   float64\n",
            " 15  PEF                                671692 non-null   float64\n",
            " 16  DTC                                1089648 non-null  float64\n",
            " 17  SP                                 864247 non-null   float64\n",
            " 18  BS                                 682657 non-null   float64\n",
            " 19  ROP                                535071 non-null   float64\n",
            " 20  DTS                                174613 non-null   float64\n",
            " 21  DCAL                               298833 non-null   float64\n",
            " 22  DRHO                               987857 non-null   float64\n",
            " 23  MUDWEIGHT                          316151 non-null   float64\n",
            " 24  RMIC                               176160 non-null   float64\n",
            " 25  ROPA                               192325 non-null   float64\n",
            " 26  RXO                                327427 non-null   float64\n",
            " 27  FORCE_2020_LITHOFACIES_LITHOLOGY   1170511 non-null  int64  \n",
            " 28  FORCE_2020_LITHOFACIES_CONFIDENCE  1170332 non-null  float64\n",
            "dtypes: float64(25), int64(1), object(3)\n",
            "memory usage: 259.0+ MB\n"
          ],
          "name": "stdout"
        }
      ]
    },
    {
      "cell_type": "markdown",
      "metadata": {
        "id": "lABZ9HJ7y0Nj"
      },
      "source": [
        "##Well Data Distribution:\n",
        "In the figure below, geographical well locations are plotted using X and Y coordinates  It is clear that we are dealing with almost three clusters of wells, NW, SW, and NE. We can see that test wells are chosen fairly consistent with whole data points distribution. *italicized text*"
      ]
    },
    {
      "cell_type": "code",
      "metadata": {
        "colab": {
          "base_uri": "https://localhost:8080/",
          "height": 504
        },
        "id": "PweOTRDNlPj0",
        "outputId": "817c8fdc-0e65-4c9c-b7ba-0e51467f4c81"
      },
      "source": [
        "fig, ax = plt.subplots(figsize=(18,10))\n",
        "\n",
        "sns.scatterplot(data=train_df, x='X_LOC', y='Y_LOC', \n",
        "               ax=ax)\n",
        "sns.scatterplot(data=test_df, x='X_LOC', y='Y_LOC', \n",
        "               ax=ax, marker='+')\n",
        "\n",
        "ax.set_title('Well Distributions', fontsize = '16')\n",
        "ax.set_xlabel('X_coordinate (UTM)', fontsize = '12')\n",
        "ax.set_ylabel('Y_coordinate (UTM)', fontsize = '12')"
      ],
      "execution_count": 5,
      "outputs": [
        {
          "output_type": "execute_result",
          "data": {
            "text/plain": [
              "Text(0, 0.5, 'Y_coordinate (UTM)')"
            ]
          },
          "metadata": {},
          "execution_count": 5
        },
        {
          "output_type": "display_data",
          "data": {
            "image/png": "[encoded data removed]",
            "text/plain": [
              "<Figure size 1296x720 with 1 Axes>"
            ]
          },
          "metadata": {
            "needs_background": "light"
          }
        }
      ]
    },
    {
      "cell_type": "code",
      "metadata": {
        "id": "ijHSti3AliTz"
      },
      "source": [
        "lithology_keys = {30000: 'Sandstone',\n",
        "                 65030: 'Sandstone/Shale',\n",
        "                 65000: 'Shale',\n",
        "                 80000: 'Marl',\n",
        "                 74000: 'Dolomite',\n",
        "                 70000: 'Limestone',\n",
        "                 70032: 'Chalk',\n",
        "                 88000: 'Halite',\n",
        "                 86000: 'Anhydrite',\n",
        "                 99000: 'Tuff',\n",
        "                 90000: 'Coal',\n",
        "                 93000: 'Basement'}"
      ],
      "execution_count": 6,
      "outputs": []
    },
    {
      "cell_type": "code",
      "metadata": {
        "colab": {
          "base_uri": "https://localhost:8080/"
        },
        "id": "5-W2sOwq1FYH",
        "outputId": "5e0a2d0b-6760-4c2e-b7af-fb4d92a97e68"
      },
      "source": [
        "train_df['FORCE_2020_LITHOFACIES_LITHOLOGY'].unique()"
      ],
      "execution_count": 7,
      "outputs": [
        {
          "output_type": "execute_result",
          "data": {
            "text/plain": [
              "array([65000, 30000, 65030, 70000, 99000, 80000, 86000, 74000, 70032,\n",
              "       90000, 88000, 93000])"
            ]
          },
          "metadata": {},
          "execution_count": 7
        }
      ]
    },
    {
      "cell_type": "markdown",
      "metadata": {
        "id": "bidlhwIs298c"
      },
      "source": [
        "Lithologies are not equally likely. This is reflected in this dataset."
      ]
    },
    {
      "cell_type": "code",
      "metadata": {
        "colab": {
          "base_uri": "https://localhost:8080/",
          "height": 502
        },
        "id": "5UKB2JLZ1I4i",
        "outputId": "9daaab6a-cbd6-4bb0-fc4a-e4c3ff9f3736"
      },
      "source": [
        "counts = train_df['FORCE_2020_LITHOFACIES_LITHOLOGY'].value_counts()\n",
        "names = []\n",
        "percentage = []\n",
        "N = train_df['FORCE_2020_LITHOFACIES_LITHOLOGY'].shape[0]\n",
        "for item in counts.items():\n",
        "    names.append(lithology_keys[item[0]])\n",
        "    percentage.append(float(item[1])/N*100)\n",
        "fig, ax = plt.subplots(1, 1, figsize=(14, 7))\n",
        "ax.bar(x=np.arange(len(names)), height=percentage)\n",
        "ax.set_xticklabels(names, rotation=45)\n",
        "ax.set_xticks(np.arange(len(names)))\n",
        "ax.set_ylabel('Lithology presence (\\%)')"
      ],
      "execution_count": 8,
      "outputs": [
        {
          "output_type": "execute_result",
          "data": {
            "text/plain": [
              "Text(0, 0.5, 'Lithology presence (\\\\%)')"
            ]
          },
          "metadata": {},
          "execution_count": 8
        },
        {
          "output_type": "display_data",
          "data": {
            "image/png": "[encoded data removed]",
            "text/plain": [
              "<Figure size 1008x504 with 1 Axes>"
            ]
          },
          "metadata": {
            "needs_background": "light"
          }
        }
      ]
    },
    {
      "cell_type": "markdown",
      "metadata": {
        "id": "rF2VMdEmWXmh"
      },
      "source": [
        "## Missing Logs\n",
        "The only log columns that are **guaranteed** to be present are WELL, DEPT, and GR. All other logs can (and will) be missing from some parts of the dataset."
      ]
    },
    {
      "cell_type": "code",
      "metadata": {
        "colab": {
          "base_uri": "https://localhost:8080/"
        },
        "id": "ORkw50SBW0T3",
        "outputId": "054dfe4d-cfb9-411b-dc67-096798aaae80"
      },
      "source": [
        "train_df.isna().sum()"
      ],
      "execution_count": 9,
      "outputs": [
        {
          "output_type": "execute_result",
          "data": {
            "text/plain": [
              "WELL                                       0\n",
              "DEPTH_MD                                   0\n",
              "X_LOC                                  10775\n",
              "Y_LOC                                  10775\n",
              "Z_LOC                                  10775\n",
              "GROUP                                   1278\n",
              "FORMATION                             136994\n",
              "CALI                                   87877\n",
              "RSHA                                  539861\n",
              "RMED                                   38993\n",
              "RDEP                                   11015\n",
              "RHOB                                  161269\n",
              "GR                                         0\n",
              "SGR                                  1101158\n",
              "NPHI                                  405102\n",
              "PEF                                   498819\n",
              "DTC                                    80863\n",
              "SP                                    306264\n",
              "BS                                    487854\n",
              "ROP                                   635440\n",
              "DTS                                   995898\n",
              "DCAL                                  871678\n",
              "DRHO                                  182654\n",
              "MUDWEIGHT                             854360\n",
              "RMIC                                  994351\n",
              "ROPA                                  978186\n",
              "RXO                                   843084\n",
              "FORCE_2020_LITHOFACIES_LITHOLOGY           0\n",
              "FORCE_2020_LITHOFACIES_CONFIDENCE        179\n",
              "dtype: int64"
            ]
          },
          "metadata": {},
          "execution_count": 9
        }
      ]
    },
    {
      "cell_type": "code",
      "metadata": {
        "colab": {
          "base_uri": "https://localhost:8080/",
          "height": 485
        },
        "id": "snfWOskNCzkq",
        "outputId": "4d6f18e4-d586-4051-c44d-cac0e00b6ee3"
      },
      "source": [
        "occurences = np.zeros(25)\n",
        "for well in train_df['WELL'].unique():\n",
        "    occurences += train_df[train_df['WELL'] == well].isna().all().astype(int).values[2:-2]\n",
        "fig, ax = plt.subplots(1, 1, figsize=(14, 7))\n",
        "ax.bar(x=np.arange(occurences.shape[0]), height=(train_df.WELL.unique().shape[0]-occurences)/train_df.WELL.unique().shape[0]*100.0)\n",
        "ax.set_xticklabels(train_df.columns[2:-2], rotation=45)\n",
        "ax.set_xticks(np.arange(occurences.shape[0]))\n",
        "ax.set_ylabel('Well presence (\\%)')"
      ],
      "execution_count": 10,
      "outputs": [
        {
          "output_type": "execute_result",
          "data": {
            "text/plain": [
              "Text(0, 0.5, 'Well presence (\\\\%)')"
            ]
          },
          "metadata": {},
          "execution_count": 10
        },
        {
          "output_type": "display_data",
          "data": {
            "image/png": "[encoded data removed]",
            "text/plain": [
              "<Figure size 1008x504 with 1 Axes>"
            ]
          },
          "metadata": {
            "needs_background": "light"
          }
        }
      ]
    },
    {
      "cell_type": "markdown",
      "metadata": {
        "id": "n4EexVKC7vBN"
      },
      "source": [
        "#Preprocessing"
      ]
    },
    {
      "cell_type": "markdown",
      "metadata": {
        "id": "JB70NEQcHsKK"
      },
      "source": [
        "We should convert lithology labels to numbers 0-11 before training"
      ]
    },
    {
      "cell_type": "code",
      "metadata": {
        "colab": {
          "base_uri": "https://localhost:8080/"
        },
        "id": "-mWhos-cHETF",
        "outputId": "f816d8a7-f41c-46a0-a0c6-5f8ff5b9912b"
      },
      "source": [
        "y= train_df['FORCE_2020_LITHOFACIES_LITHOLOGY']\n",
        "\n",
        "lithology_numbers = {30000: 0,\n",
        "                 65030: 1,\n",
        "                 65000: 2,\n",
        "                 80000: 3,\n",
        "                 74000: 4,\n",
        "                 70000: 5,\n",
        "                 70032: 6,\n",
        "                 88000: 7,\n",
        "                 86000: 8,\n",
        "                 99000: 9,\n",
        "                 90000: 10,\n",
        "                 93000: 11}\n",
        "\n",
        "y = y.map(lithology_numbers)\n",
        "y.value_counts()"
      ],
      "execution_count": 14,
      "outputs": [
        {
          "output_type": "execute_result",
          "data": {
            "text/plain": [
              "2     720803\n",
              "0     168937\n",
              "1     150455\n",
              "5      56320\n",
              "3      33329\n",
              "9      15245\n",
              "6      10513\n",
              "7       8213\n",
              "10      3820\n",
              "4       1688\n",
              "8       1085\n",
              "11       103\n",
              "Name: FORCE_2020_LITHOFACIES_LITHOLOGY, dtype: int64"
            ]
          },
          "metadata": {},
          "execution_count": 14
        }
      ]
    },
    {
      "cell_type": "markdown",
      "metadata": {
        "id": "DckjkkcyH0cv"
      },
      "source": [
        "## Data Encoding"
      ]
    },
    {
      "cell_type": "code",
      "metadata": {
        "colab": {
          "base_uri": "https://localhost:8080/"
        },
        "id": "IpPUxEW-Hzqh",
        "outputId": "f5e8a7ad-2486-413f-a3ea-6d52285e98ed"
      },
      "source": [
        "train_df['GROUP_encoded'] = train_df['GROUP'].astype('category')\n",
        "train_df['GROUP_encoded'] = train_df['GROUP_encoded'].cat.codes\n",
        "\n",
        "train_df['FORMATION_encoded'] = train_df['FORMATION'].astype('category')\n",
        "train_df['FORMATION_encoded'] = train_df['FORMATION_encoded'].cat.codes\n",
        "\n",
        "train_df['WELL_encoded'] = train_df['WELL'].astype('category')\n",
        "train_df['WELL_encoded'] = train_df['WELL_encoded'].cat.codes\n",
        "\n",
        "train_df.shape"
      ],
      "execution_count": 15,
      "outputs": [
        {
          "output_type": "execute_result",
          "data": {
            "text/plain": [
              "(1170511, 32)"
            ]
          },
          "metadata": {},
          "execution_count": 15
        }
      ]
    },
    {
      "cell_type": "code",
      "metadata": {
        "id": "S3lbCXCX7xJo"
      },
      "source": [
        "X = train_df.drop(columns=['WELL','GROUP', 'FORMATION', 'FORCE_2020_LITHOFACIES_LITHOLOGY', 'FORCE_2020_LITHOFACIES_CONFIDENCE'])"
      ],
      "execution_count": 17,
      "outputs": []
    },
    {
      "cell_type": "code",
      "metadata": {
        "colab": {
          "base_uri": "https://localhost:8080/",
          "height": 226
        },
        "id": "xe9J7kLOJxSw",
        "outputId": "e5c12530-7714-405f-e5cb-7ca9c58e8381"
      },
      "source": [
        "X.head()"
      ],
      "execution_count": 19,
      "outputs": [
        {
          "output_type": "execute_result",
          "data": {
            "text/html": [
              "<div>\n",
              "<style scoped>\n",
              "    .dataframe tbody tr th:only-of-type {\n",
              "        vertical-align: middle;\n",
              "    }\n",
              "\n",
              "    .dataframe tbody tr th {\n",
              "        vertical-align: top;\n",
              "    }\n",
              "\n",
              "    .dataframe thead th {\n",
              "        text-align: right;\n",
              "    }\n",
              "</style>\n",
              "<table border=\"1\" class=\"dataframe\">\n",
              "  <thead>\n",
              "    <tr style=\"text-align: right;\">\n",
              "      <th></th>\n",
              "      <th>DEPTH_MD</th>\n",
              "      <th>X_LOC</th>\n",
              "      <th>Y_LOC</th>\n",
              "      <th>Z_LOC</th>\n",
              "      <th>CALI</th>\n",
              "      <th>RSHA</th>\n",
              "      <th>RMED</th>\n",
              "      <th>RDEP</th>\n",
              "      <th>RHOB</th>\n",
              "      <th>GR</th>\n",
              "      <th>SGR</th>\n",
              "      <th>NPHI</th>\n",
              "      <th>PEF</th>\n",
              "      <th>DTC</th>\n",
              "      <th>SP</th>\n",
              "      <th>BS</th>\n",
              "      <th>ROP</th>\n",
              "      <th>DTS</th>\n",
              "      <th>DCAL</th>\n",
              "      <th>DRHO</th>\n",
              "      <th>MUDWEIGHT</th>\n",
              "      <th>RMIC</th>\n",
              "      <th>ROPA</th>\n",
              "      <th>RXO</th>\n",
              "      <th>GROUP_encoded</th>\n",
              "      <th>FORMATION_encoded</th>\n",
              "      <th>WELL_encoded</th>\n",
              "    </tr>\n",
              "  </thead>\n",
              "  <tbody>\n",
              "    <tr>\n",
              "      <th>0</th>\n",
              "      <td>494.528</td>\n",
              "      <td>437641.96875</td>\n",
              "      <td>6470972.5</td>\n",
              "      <td>-469.501831</td>\n",
              "      <td>19.480835</td>\n",
              "      <td>NaN</td>\n",
              "      <td>1.611410</td>\n",
              "      <td>1.798681</td>\n",
              "      <td>1.884186</td>\n",
              "      <td>80.200851</td>\n",
              "      <td>NaN</td>\n",
              "      <td>NaN</td>\n",
              "      <td>20.915468</td>\n",
              "      <td>161.131180</td>\n",
              "      <td>24.612379</td>\n",
              "      <td>NaN</td>\n",
              "      <td>34.636410</td>\n",
              "      <td>NaN</td>\n",
              "      <td>NaN</td>\n",
              "      <td>-0.574928</td>\n",
              "      <td>NaN</td>\n",
              "      <td>NaN</td>\n",
              "      <td>NaN</td>\n",
              "      <td>NaN</td>\n",
              "      <td>6</td>\n",
              "      <td>-1</td>\n",
              "      <td>0</td>\n",
              "    </tr>\n",
              "    <tr>\n",
              "      <th>1</th>\n",
              "      <td>494.680</td>\n",
              "      <td>437641.96875</td>\n",
              "      <td>6470972.5</td>\n",
              "      <td>-469.653809</td>\n",
              "      <td>19.468800</td>\n",
              "      <td>NaN</td>\n",
              "      <td>1.618070</td>\n",
              "      <td>1.795641</td>\n",
              "      <td>1.889794</td>\n",
              "      <td>79.262886</td>\n",
              "      <td>NaN</td>\n",
              "      <td>NaN</td>\n",
              "      <td>19.383013</td>\n",
              "      <td>160.603470</td>\n",
              "      <td>23.895531</td>\n",
              "      <td>NaN</td>\n",
              "      <td>34.636410</td>\n",
              "      <td>NaN</td>\n",
              "      <td>NaN</td>\n",
              "      <td>-0.570188</td>\n",
              "      <td>NaN</td>\n",
              "      <td>NaN</td>\n",
              "      <td>NaN</td>\n",
              "      <td>NaN</td>\n",
              "      <td>6</td>\n",
              "      <td>-1</td>\n",
              "      <td>0</td>\n",
              "    </tr>\n",
              "    <tr>\n",
              "      <th>2</th>\n",
              "      <td>494.832</td>\n",
              "      <td>437641.96875</td>\n",
              "      <td>6470972.5</td>\n",
              "      <td>-469.805786</td>\n",
              "      <td>19.468800</td>\n",
              "      <td>NaN</td>\n",
              "      <td>1.626459</td>\n",
              "      <td>1.800733</td>\n",
              "      <td>1.896523</td>\n",
              "      <td>74.821999</td>\n",
              "      <td>NaN</td>\n",
              "      <td>NaN</td>\n",
              "      <td>22.591518</td>\n",
              "      <td>160.173615</td>\n",
              "      <td>23.916357</td>\n",
              "      <td>NaN</td>\n",
              "      <td>34.779556</td>\n",
              "      <td>NaN</td>\n",
              "      <td>NaN</td>\n",
              "      <td>-0.574245</td>\n",
              "      <td>NaN</td>\n",
              "      <td>NaN</td>\n",
              "      <td>NaN</td>\n",
              "      <td>NaN</td>\n",
              "      <td>6</td>\n",
              "      <td>-1</td>\n",
              "      <td>0</td>\n",
              "    </tr>\n",
              "    <tr>\n",
              "      <th>3</th>\n",
              "      <td>494.984</td>\n",
              "      <td>437641.96875</td>\n",
              "      <td>6470972.5</td>\n",
              "      <td>-469.957794</td>\n",
              "      <td>19.459282</td>\n",
              "      <td>NaN</td>\n",
              "      <td>1.621594</td>\n",
              "      <td>1.801517</td>\n",
              "      <td>1.891913</td>\n",
              "      <td>72.878922</td>\n",
              "      <td>NaN</td>\n",
              "      <td>NaN</td>\n",
              "      <td>32.191910</td>\n",
              "      <td>160.149429</td>\n",
              "      <td>23.793688</td>\n",
              "      <td>NaN</td>\n",
              "      <td>39.965164</td>\n",
              "      <td>NaN</td>\n",
              "      <td>NaN</td>\n",
              "      <td>-0.586315</td>\n",
              "      <td>NaN</td>\n",
              "      <td>NaN</td>\n",
              "      <td>NaN</td>\n",
              "      <td>NaN</td>\n",
              "      <td>6</td>\n",
              "      <td>-1</td>\n",
              "      <td>0</td>\n",
              "    </tr>\n",
              "    <tr>\n",
              "      <th>4</th>\n",
              "      <td>495.136</td>\n",
              "      <td>437641.96875</td>\n",
              "      <td>6470972.5</td>\n",
              "      <td>-470.109772</td>\n",
              "      <td>19.453100</td>\n",
              "      <td>NaN</td>\n",
              "      <td>1.602679</td>\n",
              "      <td>1.795299</td>\n",
              "      <td>1.880034</td>\n",
              "      <td>71.729141</td>\n",
              "      <td>NaN</td>\n",
              "      <td>NaN</td>\n",
              "      <td>38.495632</td>\n",
              "      <td>160.128342</td>\n",
              "      <td>24.104078</td>\n",
              "      <td>NaN</td>\n",
              "      <td>57.483765</td>\n",
              "      <td>NaN</td>\n",
              "      <td>NaN</td>\n",
              "      <td>-0.597914</td>\n",
              "      <td>NaN</td>\n",
              "      <td>NaN</td>\n",
              "      <td>NaN</td>\n",
              "      <td>NaN</td>\n",
              "      <td>6</td>\n",
              "      <td>-1</td>\n",
              "      <td>0</td>\n",
              "    </tr>\n",
              "  </tbody>\n",
              "</table>\n",
              "</div>"
            ],
            "text/plain": [
              "   DEPTH_MD         X_LOC  ...  FORMATION_encoded  WELL_encoded\n",
              "0   494.528  437641.96875  ...                 -1             0\n",
              "1   494.680  437641.96875  ...                 -1             0\n",
              "2   494.832  437641.96875  ...                 -1             0\n",
              "3   494.984  437641.96875  ...                 -1             0\n",
              "4   495.136  437641.96875  ...                 -1             0\n",
              "\n",
              "[5 rows x 27 columns]"
            ]
          },
          "metadata": {},
          "execution_count": 19
        }
      ]
    },
    {
      "cell_type": "markdown",
      "metadata": {
        "id": "cefREC8jNAZU"
      },
      "source": [
        "## Filling Missing Data\n",
        "\n",
        "I decided to replace the missing data with a distnict value different from the other values"
      ]
    },
    {
      "cell_type": "code",
      "metadata": {
        "colab": {
          "base_uri": "https://localhost:8080/"
        },
        "id": "AqZsin3TJ3tO",
        "outputId": "87c27b5c-fcb1-4431-f7f2-08a947a1a512"
      },
      "source": [
        "X.fillna(-9999, inplace=True)\n",
        "X.isna().sum()"
      ],
      "execution_count": 21,
      "outputs": [
        {
          "output_type": "execute_result",
          "data": {
            "text/plain": [
              "DEPTH_MD             0\n",
              "X_LOC                0\n",
              "Y_LOC                0\n",
              "Z_LOC                0\n",
              "CALI                 0\n",
              "RSHA                 0\n",
              "RMED                 0\n",
              "RDEP                 0\n",
              "RHOB                 0\n",
              "GR                   0\n",
              "SGR                  0\n",
              "NPHI                 0\n",
              "PEF                  0\n",
              "DTC                  0\n",
              "SP                   0\n",
              "BS                   0\n",
              "ROP                  0\n",
              "DTS                  0\n",
              "DCAL                 0\n",
              "DRHO                 0\n",
              "MUDWEIGHT            0\n",
              "RMIC                 0\n",
              "ROPA                 0\n",
              "RXO                  0\n",
              "GROUP_encoded        0\n",
              "FORMATION_encoded    0\n",
              "WELL_encoded         0\n",
              "dtype: int64"
            ]
          },
          "metadata": {},
          "execution_count": 21
        }
      ]
    },
    {
      "cell_type": "markdown",
      "metadata": {
        "id": "eaENMzxd884-"
      },
      "source": [
        "\n",
        "#Modeling\n"
      ]
    },
    {
      "cell_type": "code",
      "metadata": {
        "colab": {
          "base_uri": "https://localhost:8080/"
        },
        "id": "9q3Ojpm1N_D2",
        "outputId": "2611f865-f6d9-4f99-81b0-1d90adaac8cc"
      },
      "source": [
        "A = np.load('drive/MyDrive/penalty_matrix.npy')\n",
        "A"
      ],
      "execution_count": 22,
      "outputs": [
        {
          "output_type": "execute_result",
          "data": {
            "text/plain": [
              "array([[0.   , 2.   , 3.5  , 3.   , 3.75 , 3.5  , 3.5  , 4.   , 4.   ,\n",
              "        2.5  , 3.875, 3.25 ],\n",
              "       [2.   , 0.   , 2.375, 2.75 , 4.   , 3.75 , 3.75 , 3.875, 4.   ,\n",
              "        3.   , 3.75 , 3.   ],\n",
              "       [3.5  , 2.375, 0.   , 2.   , 3.5  , 3.5  , 3.75 , 4.   , 4.   ,\n",
              "        2.75 , 3.25 , 3.   ],\n",
              "       [3.   , 2.75 , 2.   , 0.   , 2.5  , 2.   , 2.25 , 4.   , 4.   ,\n",
              "        3.375, 3.75 , 3.25 ],\n",
              "       [3.75 , 4.   , 3.5  , 2.5  , 0.   , 2.625, 2.875, 3.75 , 3.25 ,\n",
              "        3.   , 4.   , 3.625],\n",
              "       [3.5  , 3.75 , 3.5  , 2.   , 2.625, 0.   , 1.375, 4.   , 3.75 ,\n",
              "        3.5  , 4.   , 3.625],\n",
              "       [3.5  , 3.75 , 3.75 , 2.25 , 2.875, 1.375, 0.   , 4.   , 3.75 ,\n",
              "        3.125, 4.   , 3.75 ],\n",
              "       [4.   , 3.875, 4.   , 4.   , 3.75 , 4.   , 4.   , 0.   , 2.75 ,\n",
              "        3.75 , 3.75 , 4.   ],\n",
              "       [4.   , 4.   , 4.   , 4.   , 3.25 , 3.75 , 3.75 , 2.75 , 0.   ,\n",
              "        4.   , 4.   , 3.875],\n",
              "       [2.5  , 3.   , 2.75 , 3.375, 3.   , 3.5  , 3.125, 3.75 , 4.   ,\n",
              "        0.   , 2.5  , 3.25 ],\n",
              "       [3.875, 3.75 , 3.25 , 3.75 , 4.   , 4.   , 4.   , 3.75 , 4.   ,\n",
              "        2.5  , 0.   , 4.   ],\n",
              "       [3.25 , 3.   , 3.   , 3.25 , 3.625, 3.625, 3.75 , 4.   , 3.875,\n",
              "        3.25 , 4.   , 0.   ]])"
            ]
          },
          "metadata": {},
          "execution_count": 22
        }
      ]
    },
    {
      "cell_type": "code",
      "metadata": {
        "id": "F4YQcrA3STCE"
      },
      "source": [
        "def score(y_true, y_pred):\n",
        "    S = 0.0\n",
        "    y_true = y_true.astype(int)\n",
        "    y_pred = y_pred.astype(int)\n",
        "    for i in range(0, y_true.shape[0]):\n",
        "        S -= A[y_true[i], y_pred[i]]\n",
        "    return S/y_true.shape[0]\n",
        "\n",
        "def show_evaluation(pred, true):\n",
        "\n",
        "  '''\n",
        "\n",
        "  function to show model performance and evaluation\n",
        "  args:\n",
        "    pred: predicted value(a list)\n",
        "    true: actual values (a list)\n",
        "\n",
        "  prints the custom metric performance, accuracy and F1 score of predictions\n",
        "\n",
        "  '''\n",
        "\n",
        "  print(f'Default score: {score(true.values, pred)}')\n",
        "  print(f'Accuracy is: {accuracy_score(true, pred)}')\n",
        "  print(f'F1 is: {f1_score(pred, true.values, average=\"weighted\")}')"
      ],
      "execution_count": 26,
      "outputs": []
    },
    {
      "cell_type": "code",
      "metadata": {
        "colab": {
          "base_uri": "https://localhost:8080/"
        },
        "id": "5ol-abwXSalV",
        "outputId": "69219054-53f9-46ac-ae41-59eaf3d67fe9"
      },
      "source": [
        "kf = StratifiedKFold(n_splits=5, shuffle=True)\n",
        "model = XGBClassifier(random_state=42)\n",
        "for (train_index, test_index) in kf.split(X,y):\n",
        "        X_train, X_test = X.iloc[train_index], X.iloc[test_index]\n",
        "        Y_train, Y_test = y.iloc[train_index], y.iloc[test_index]\n",
        "    \n",
        "        model.fit(X_train, Y_train, early_stopping_rounds=100, eval_set=[(X_test, Y_test)], verbose=100)\n",
        "        prediction = model.predict(X_test)\n",
        "        print(show_evaluation(prediction, Y_test))"
      ],
      "execution_count": 28,
      "outputs": [
        {
          "output_type": "stream",
          "text": [
            "[0]\tvalidation_0-merror:0.278929\n",
            "Will train until validation_0-merror hasn't improved in 100 rounds.\n",
            "[99]\tvalidation_0-merror:0.173859\n",
            "Default score: -0.46346533363519477\n",
            "Accuracy is: 0.8261406304062742\n",
            "F1 is: 0.8402979656675632\n",
            "None\n",
            "[0]\tvalidation_0-merror:0.284145\n",
            "Will train until validation_0-merror hasn't improved in 100 rounds.\n",
            "[99]\tvalidation_0-merror:0.174945\n",
            "Default score: -0.4661846118358664\n",
            "Accuracy is: 0.8250548906032413\n",
            "F1 is: 0.839768931379816\n",
            "None\n",
            "[0]\tvalidation_0-merror:0.285833\n",
            "Will train until validation_0-merror hasn't improved in 100 rounds.\n",
            "[99]\tvalidation_0-merror:0.174219\n",
            "Default score: -0.46351163168191645\n",
            "Accuracy is: 0.8257810697900915\n",
            "F1 is: 0.8402528347989057\n",
            "None\n",
            "[0]\tvalidation_0-merror:0.283624\n",
            "Will train until validation_0-merror hasn't improved in 100 rounds.\n",
            "[99]\tvalidation_0-merror:0.174031\n",
            "Default score: -0.46525125799865014\n",
            "Accuracy is: 0.8259690220502174\n",
            "F1 is: 0.8399749986304798\n",
            "None\n",
            "[0]\tvalidation_0-merror:0.284508\n",
            "Will train until validation_0-merror hasn't improved in 100 rounds.\n",
            "[99]\tvalidation_0-merror:0.174001\n",
            "Default score: -0.4643456698362252\n",
            "Accuracy is: 0.8259989235461466\n",
            "F1 is: 0.8403374904047097\n",
            "None\n"
          ],
          "name": "stdout"
        }
      ]
    },
    {
      "cell_type": "code",
      "metadata": {
        "id": "qPOw1eKBYK1H"
      },
      "source": [
        "def plot_features(columns, importances, n=20):\n",
        "    df = (pd.DataFrame({\"features\": columns,\n",
        "                        \"feature_importance\": importances})\n",
        "          .sort_values(\"feature_importance\", ascending=False)\n",
        "          .reset_index(drop=True))\n",
        "    \n",
        "    sns.barplot(x=\"feature_importance\",\n",
        "                y=\"features\",\n",
        "                data=df[:n],\n",
        "                orient=\"h\")"
      ],
      "execution_count": 29,
      "outputs": []
    },
    {
      "cell_type": "code",
      "metadata": {
        "colab": {
          "base_uri": "https://localhost:8080/",
          "height": 280
        },
        "id": "SspdewrUhUp0",
        "outputId": "7ff53f0d-1927-481e-b85c-9d8842710661"
      },
      "source": [
        "plot_features(X.columns, model.feature_importances_)"
      ],
      "execution_count": 30,
      "outputs": [
        {
          "output_type": "display_data",
          "data": {
            "image/png": "[encoded data removed]",
            "text/plain": [
              "<Figure size 432x288 with 1 Axes>"
            ]
          },
          "metadata": {
            "needs_background": "light"
          }
        }
      ]
    },
    {
      "cell_type": "code",
      "metadata": {
        "id": "11VB3nT28xsS"
      },
      "source": [
        ""
      ],
      "execution_count": null,
      "outputs": []
    }
  ]
}